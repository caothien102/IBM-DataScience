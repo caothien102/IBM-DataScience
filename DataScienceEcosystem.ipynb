{
  "nbformat": 4,
  "nbformat_minor": 0,
  "metadata": {
    "colab": {
      "provenance": []
    },
    "kernelspec": {
      "name": "python3",
      "display_name": "Python 3"
    },
    "language_info": {
      "name": "python"
    }
  },
  "cells": [
    {
      "cell_type": "markdown",
      "source": [
        "# Data Science Tools and Ecosystem"
      ],
      "metadata": {
        "id": "ztAaS_YI6kXo"
      }
    },
    {
      "cell_type": "markdown",
      "source": [
        "In this notebook, Data Science Tools and Ecosystem are summarized."
      ],
      "metadata": {
        "id": "eODyzttp69dl"
      }
    },
    {
      "cell_type": "markdown",
      "source": [
        "Some of the popular languages that Data Scientists use are:\n",
        "\n",
        "1.   Python\n",
        "2.   R\n",
        "\n"
      ],
      "metadata": {
        "id": "GkzFdqks7IX-"
      }
    },
    {
      "cell_type": "markdown",
      "source": [
        "**Objectives:**\n",
        "\n",
        "- Understand the basics of Jupyter Notebooks.\n",
        "- List popular programming languages for Data Science.\n",
        "- Convert minutes into hours using Python.\n",
        "- Learn how to use markdown cells for formatting.\n",
        "- Explore key Python libraries for Data Science.\n"
      ],
      "metadata": {
        "id": "TDAlkUsx9Wuu"
      }
    },
    {
      "cell_type": "markdown",
      "source": [
        "Some of the commonly used libraries used by Data Scientists include:\n",
        "\n",
        "\n",
        "1.   Numpy\n",
        "2.   Pandas\n",
        "3.   Scikit learn\n",
        "\n"
      ],
      "metadata": {
        "id": "8eavPU0M7eLA"
      }
    },
    {
      "cell_type": "markdown",
      "source": [
        "| Data Science Tools         |\n",
        "|----------------------------|\n",
        "| Jupyter Notebook           |\n",
        "| RStudio                    |\n",
        "| Apache Zeppelin            |"
      ],
      "metadata": {
        "id": "hgCFrNDj7v-D"
      }
    },
    {
      "cell_type": "markdown",
      "source": [
        "### Below are a few examples of evaluating arithmetic expressions in Python"
      ],
      "metadata": {
        "id": "K-Fu7YHV8Ogv"
      }
    },
    {
      "cell_type": "code",
      "source": [
        "(3*4)+5\n",
        "# This a simple arithmetic expression to mutiply then add integers"
      ],
      "metadata": {
        "colab": {
          "base_uri": "https://localhost:8080/"
        },
        "id": "ZxSUldWD6pnX",
        "outputId": "5426ff91-7c33-496a-9ca3-0b368dfd703c"
      },
      "execution_count": 1,
      "outputs": [
        {
          "output_type": "execute_result",
          "data": {
            "text/plain": [
              "17"
            ]
          },
          "metadata": {},
          "execution_count": 1
        }
      ]
    },
    {
      "cell_type": "code",
      "source": [
        "minutes = 200\n",
        "hours = minutes / 60\n",
        "hours\n",
        "# This will convert 200 minutes to hours by diving by 60."
      ],
      "metadata": {
        "colab": {
          "base_uri": "https://localhost:8080/"
        },
        "id": "lCm7UipS8tDf",
        "outputId": "a77d21e3-5f1e-4f52-e4fa-b6e4a00b4811"
      },
      "execution_count": 2,
      "outputs": [
        {
          "output_type": "execute_result",
          "data": {
            "text/plain": [
              "3.3333333333333335"
            ]
          },
          "metadata": {},
          "execution_count": 2
        }
      ]
    },
    {
      "cell_type": "markdown",
      "source": [
        "## Author  \n",
        "Thien Cao"
      ],
      "metadata": {
        "id": "f2uVHmsa9tOS"
      }
    },
    {
      "cell_type": "code",
      "source": [],
      "metadata": {
        "id": "8uJSMTBF8zqL"
      },
      "execution_count": null,
      "outputs": []
    }
  ]
}